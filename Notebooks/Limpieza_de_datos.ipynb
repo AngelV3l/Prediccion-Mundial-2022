{
 "cells": [
  {
   "cell_type": "markdown",
   "id": "7350cf78",
   "metadata": {},
   "source": [
    "# 🧹 Limpieza y preparación de datos\n",
    "En este notebook se limpian y transforman los datos históricos de los Mundiales y los datos del fixture del Mundial 2022. Este paso es esencial para preparar los conjuntos de datos que alimentarán el modelo de predicción y permitirán simular los partidos del torneo."
   ]
  },
  {
   "cell_type": "code",
   "execution_count": 183,
   "id": "a18f7129",
   "metadata": {},
   "outputs": [],
   "source": [
    "import pandas as pd"
   ]
  },
  {
   "cell_type": "markdown",
   "id": "d98645e1",
   "metadata": {},
   "source": [
    "## 1.Carga de datos históricos y del fixture\n",
    "Cargamos el archivo fifa_worldcup_historical_data.csv, que contiene los resultados de todos los partidos jugados en los mundiales desde 1930 hasta 2018. El archivo fifa_worldcup_fixture.csv contiene los enfrentamientos del torneo 2022. \n",
    "\n",
    "Estos datasets fueron generados previamente en el script de web scraping (get_matches)."
   ]
  },
  {
   "cell_type": "code",
   "execution_count": 184,
   "id": "616ba6d6",
   "metadata": {},
   "outputs": [],
   "source": [
    "df_data_historica = pd.read_csv('fifa_worldcup_historical_data.csv')\n",
    "df_fixture = pd.read_csv('fifa_worldcup_fixture.csv')"
   ]
  },
  {
   "cell_type": "markdown",
   "id": "984c0ca8",
   "metadata": {},
   "source": [
    "### 1.1 Limpieza de df_fixture\n",
    "Los nombres de los equipos contienen caractéres en blanco. Hay que arreglarlo"
   ]
  },
  {
   "cell_type": "code",
   "execution_count": 185,
   "id": "172175a1",
   "metadata": {},
   "outputs": [],
   "source": [
    "df_fixture['home'] = df_fixture['home'].str.strip()\n",
    "df_fixture['away'] = df_fixture['away'].str.strip()"
   ]
  },
  {
   "cell_type": "markdown",
   "id": "db0f9438",
   "metadata": {},
   "source": [
    "### 1.2 Limpieza de df_data_historica\n",
    "En el mundial de 1938, el partido Suecia - Austria no se disputó por la anexión de Austria a Alemania. Este valor hay que eliminarlo"
   ]
  },
  {
   "cell_type": "code",
   "execution_count": 186,
   "id": "ae1af826",
   "metadata": {},
   "outputs": [
    {
     "data": {
      "text/html": [
       "<div>\n",
       "<style scoped>\n",
       "    .dataframe tbody tr th:only-of-type {\n",
       "        vertical-align: middle;\n",
       "    }\n",
       "\n",
       "    .dataframe tbody tr th {\n",
       "        vertical-align: top;\n",
       "    }\n",
       "\n",
       "    .dataframe thead th {\n",
       "        text-align: right;\n",
       "    }\n",
       "</style>\n",
       "<table border=\"1\" class=\"dataframe\">\n",
       "  <thead>\n",
       "    <tr style=\"text-align: right;\">\n",
       "      <th></th>\n",
       "      <th>home</th>\n",
       "      <th>score</th>\n",
       "      <th>away</th>\n",
       "      <th>year</th>\n",
       "    </tr>\n",
       "  </thead>\n",
       "  <tbody>\n",
       "    <tr>\n",
       "      <th>37</th>\n",
       "      <td>Sweden</td>\n",
       "      <td>w/o</td>\n",
       "      <td>Austria</td>\n",
       "      <td>1938</td>\n",
       "    </tr>\n",
       "  </tbody>\n",
       "</table>\n",
       "</div>"
      ],
      "text/plain": [
       "       home score      away  year\n",
       "37  Sweden    w/o   Austria  1938"
      ]
     },
     "execution_count": 186,
     "metadata": {},
     "output_type": "execute_result"
    }
   ],
   "source": [
    "df_data_historica[df_data_historica['home'].str.contains('Sweden') &\n",
    "                  df_data_historica['away'].str.contains('Austria')]"
   ]
  },
  {
   "cell_type": "code",
   "execution_count": 187,
   "id": "a771979d",
   "metadata": {},
   "outputs": [],
   "source": [
    "df_data_historica.drop(index = 37, inplace = True)"
   ]
  },
  {
   "cell_type": "markdown",
   "id": "a88c04a9",
   "metadata": {},
   "source": [
    "Los partidos que se decidieron por penaltis, contienen en score (a.e.t). Esto ensucia los datos, por lo que eliminamos todo lo que no sea digito - digito"
   ]
  },
  {
   "cell_type": "code",
   "execution_count": 188,
   "id": "88adbdf1",
   "metadata": {},
   "outputs": [],
   "source": [
    "df_data_historica['score'] = df_data_historica['score'].str.replace(r'[^\\d–]', '', regex = True)"
   ]
  },
  {
   "cell_type": "markdown",
   "id": "519aeb42",
   "metadata": {},
   "source": [
    "Eliminamos posibles caractéres en blanco"
   ]
  },
  {
   "cell_type": "code",
   "execution_count": 189,
   "id": "0bec0729",
   "metadata": {},
   "outputs": [],
   "source": [
    "df_data_historica['home'] = df_data_historica['home'].str.strip()\n",
    "df_data_historica['away'] = df_data_historica['away'].str.strip()"
   ]
  },
  {
   "cell_type": "markdown",
   "id": "4d2fd3b9",
   "metadata": {},
   "source": [
    "Descomponemos la columna score (que contiene resultados como '3–1') en dos columnas numéricas: HomeGoals y AwayGoals. Esto nos permitirá más adelante ajustar modelos estadísticos sobre los goles marcados por cada equipo."
   ]
  },
  {
   "cell_type": "code",
   "execution_count": 190,
   "id": "9decf6fb",
   "metadata": {},
   "outputs": [],
   "source": [
    "df_data_historica[['HomeGoals', 'AwayGoals']] = df_data_historica['score'].str.split('–', expand = True)"
   ]
  },
  {
   "cell_type": "code",
   "execution_count": 191,
   "id": "bd51f5ca",
   "metadata": {},
   "outputs": [],
   "source": [
    "df_data_historica.drop('score', axis = 1, inplace = True)"
   ]
  },
  {
   "cell_type": "markdown",
   "id": "193d9403",
   "metadata": {},
   "source": [
    "Renombramos columnas"
   ]
  },
  {
   "cell_type": "code",
   "execution_count": 192,
   "id": "e81bc2cd",
   "metadata": {},
   "outputs": [
    {
     "data": {
      "text/html": [
       "<div>\n",
       "<style scoped>\n",
       "    .dataframe tbody tr th:only-of-type {\n",
       "        vertical-align: middle;\n",
       "    }\n",
       "\n",
       "    .dataframe tbody tr th {\n",
       "        vertical-align: top;\n",
       "    }\n",
       "\n",
       "    .dataframe thead th {\n",
       "        text-align: right;\n",
       "    }\n",
       "</style>\n",
       "<table border=\"1\" class=\"dataframe\">\n",
       "  <thead>\n",
       "    <tr style=\"text-align: right;\">\n",
       "      <th></th>\n",
       "      <th>HomeTeam</th>\n",
       "      <th>AwayTeam</th>\n",
       "      <th>Year</th>\n",
       "      <th>HomeGoals</th>\n",
       "      <th>AwayGoals</th>\n",
       "    </tr>\n",
       "  </thead>\n",
       "  <tbody>\n",
       "    <tr>\n",
       "      <th>0</th>\n",
       "      <td>France</td>\n",
       "      <td>Mexico</td>\n",
       "      <td>1930</td>\n",
       "      <td>4</td>\n",
       "      <td>1</td>\n",
       "    </tr>\n",
       "    <tr>\n",
       "      <th>1</th>\n",
       "      <td>Argentina</td>\n",
       "      <td>France</td>\n",
       "      <td>1930</td>\n",
       "      <td>1</td>\n",
       "      <td>0</td>\n",
       "    </tr>\n",
       "    <tr>\n",
       "      <th>2</th>\n",
       "      <td>Chile</td>\n",
       "      <td>Mexico</td>\n",
       "      <td>1930</td>\n",
       "      <td>3</td>\n",
       "      <td>0</td>\n",
       "    </tr>\n",
       "    <tr>\n",
       "      <th>3</th>\n",
       "      <td>Chile</td>\n",
       "      <td>France</td>\n",
       "      <td>1930</td>\n",
       "      <td>1</td>\n",
       "      <td>0</td>\n",
       "    </tr>\n",
       "    <tr>\n",
       "      <th>4</th>\n",
       "      <td>Argentina</td>\n",
       "      <td>Mexico</td>\n",
       "      <td>1930</td>\n",
       "      <td>6</td>\n",
       "      <td>3</td>\n",
       "    </tr>\n",
       "    <tr>\n",
       "      <th>...</th>\n",
       "      <td>...</td>\n",
       "      <td>...</td>\n",
       "      <td>...</td>\n",
       "      <td>...</td>\n",
       "      <td>...</td>\n",
       "    </tr>\n",
       "    <tr>\n",
       "      <th>860</th>\n",
       "      <td>Russia</td>\n",
       "      <td>Croatia</td>\n",
       "      <td>2018</td>\n",
       "      <td>2</td>\n",
       "      <td>2</td>\n",
       "    </tr>\n",
       "    <tr>\n",
       "      <th>861</th>\n",
       "      <td>France</td>\n",
       "      <td>Belgium</td>\n",
       "      <td>2018</td>\n",
       "      <td>1</td>\n",
       "      <td>0</td>\n",
       "    </tr>\n",
       "    <tr>\n",
       "      <th>862</th>\n",
       "      <td>Croatia</td>\n",
       "      <td>England</td>\n",
       "      <td>2018</td>\n",
       "      <td>2</td>\n",
       "      <td>1</td>\n",
       "    </tr>\n",
       "    <tr>\n",
       "      <th>863</th>\n",
       "      <td>Belgium</td>\n",
       "      <td>England</td>\n",
       "      <td>2018</td>\n",
       "      <td>2</td>\n",
       "      <td>0</td>\n",
       "    </tr>\n",
       "    <tr>\n",
       "      <th>864</th>\n",
       "      <td>France</td>\n",
       "      <td>Croatia</td>\n",
       "      <td>2018</td>\n",
       "      <td>4</td>\n",
       "      <td>2</td>\n",
       "    </tr>\n",
       "  </tbody>\n",
       "</table>\n",
       "<p>864 rows × 5 columns</p>\n",
       "</div>"
      ],
      "text/plain": [
       "      HomeTeam AwayTeam  Year HomeGoals AwayGoals\n",
       "0       France   Mexico  1930         4         1\n",
       "1    Argentina   France  1930         1         0\n",
       "2        Chile   Mexico  1930         3         0\n",
       "3        Chile   France  1930         1         0\n",
       "4    Argentina   Mexico  1930         6         3\n",
       "..         ...      ...   ...       ...       ...\n",
       "860     Russia  Croatia  2018         2         2\n",
       "861     France  Belgium  2018         1         0\n",
       "862    Croatia  England  2018         2         1\n",
       "863    Belgium  England  2018         2         0\n",
       "864     France  Croatia  2018         4         2\n",
       "\n",
       "[864 rows x 5 columns]"
      ]
     },
     "execution_count": 192,
     "metadata": {},
     "output_type": "execute_result"
    }
   ],
   "source": [
    "df_data_historica.rename(columns={'home':'HomeTeam', 'away':'AwayTeam', 'year':'Year'}, inplace=True)\n",
    "df_data_historica"
   ]
  },
  {
   "cell_type": "markdown",
   "id": "267458a2",
   "metadata": {},
   "source": [
    "Verificamos que los valores son del tipo correcto"
   ]
  },
  {
   "cell_type": "code",
   "execution_count": 193,
   "id": "b2f1de0f",
   "metadata": {},
   "outputs": [
    {
     "data": {
      "text/plain": [
       "HomeTeam     object\n",
       "AwayTeam     object\n",
       "Year          int64\n",
       "HomeGoals    object\n",
       "AwayGoals    object\n",
       "dtype: object"
      ]
     },
     "execution_count": 193,
     "metadata": {},
     "output_type": "execute_result"
    }
   ],
   "source": [
    "df_data_historica.dtypes"
   ]
  },
  {
   "cell_type": "markdown",
   "id": "0a806e57",
   "metadata": {},
   "source": [
    "Queremos que los goles sean variables numéricas"
   ]
  },
  {
   "cell_type": "code",
   "execution_count": 194,
   "id": "a21c28aa",
   "metadata": {},
   "outputs": [
    {
     "data": {
      "text/plain": [
       "HomeTeam     object\n",
       "AwayTeam     object\n",
       "Year          int64\n",
       "HomeGoals     int64\n",
       "AwayGoals     int64\n",
       "dtype: object"
      ]
     },
     "execution_count": 194,
     "metadata": {},
     "output_type": "execute_result"
    }
   ],
   "source": [
    "df_data_historica = df_data_historica.astype({'HomeGoals': int, 'AwayGoals': int})\n",
    "df_data_historica.dtypes"
   ]
  },
  {
   "cell_type": "markdown",
   "id": "5e24509f",
   "metadata": {},
   "source": [
    "# 2. Exportar dataframes limpios\n",
    "\n",
    "Exportamos los datasets en formato .csv para su posterior uso en el modelo predictivo de Poisson que simulará todo el Mundial."
   ]
  },
  {
   "cell_type": "code",
   "execution_count": 195,
   "id": "3d6ee705",
   "metadata": {},
   "outputs": [],
   "source": [
    "df_data_historica.to_csv('clean_fifa_worldcup_historical_data.csv', index = False)\n",
    "df_fixture.to_csv('clean_fifa_worldcup_fixture.csv', index = False)"
   ]
  }
 ],
 "metadata": {
  "kernelspec": {
   "display_name": "Python 3",
   "language": "python",
   "name": "python3"
  },
  "language_info": {
   "codemirror_mode": {
    "name": "ipython",
    "version": 3
   },
   "file_extension": ".py",
   "mimetype": "text/x-python",
   "name": "python",
   "nbconvert_exporter": "python",
   "pygments_lexer": "ipython3",
   "version": "3.13.4"
  }
 },
 "nbformat": 4,
 "nbformat_minor": 5
}

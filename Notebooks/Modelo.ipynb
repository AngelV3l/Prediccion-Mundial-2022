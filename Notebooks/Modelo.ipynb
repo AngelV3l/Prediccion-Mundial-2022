{
 "cells": [
  {
   "cell_type": "markdown",
   "id": "5017891b",
   "metadata": {},
   "source": [
    "# 🧠 Predicción del Mundial 2022 con un Modelo de Poisson\n",
    "\n",
    "En este notebook aplicamos un modelo probabilístico basado en la distribución de Poisson para predecir los resultados del Mundial de Fútbol de 2022. Se utilizan datos históricos de todos los mundiales desde 1930 para estimar la \"fuerza\" ofensiva y defensiva de cada selección, y se simula el torneo completo partido a partido.\n"
   ]
  },
  {
   "cell_type": "markdown",
   "id": "5c5f8f8d",
   "metadata": {},
   "source": [
    "## 🔁 Carga de datos\n",
    "\n",
    "Importamos las librerías necesarias y cargamos los conjuntos de datos limpios, así como las tablas de grupos.\n"
   ]
  },
  {
   "cell_type": "code",
   "execution_count": 123,
   "id": "a16413a9",
   "metadata": {},
   "outputs": [],
   "source": [
    "import pandas as pd\n",
    "from scipy.stats import poisson\n",
    "import pickle"
   ]
  },
  {
   "cell_type": "code",
   "execution_count": 124,
   "id": "0231d188",
   "metadata": {},
   "outputs": [],
   "source": [
    "dict_table = pickle.load(open('dict_table', 'rb'))\n",
    "df_data_historica = pd.read_csv('clean_fifa_worldcup_historical_data.csv')\n",
    "df_fixture = pd.read_csv('clean_fifa_worldcup_fixture.csv')"
   ]
  },
  {
   "cell_type": "markdown",
   "id": "e93d34ce",
   "metadata": {},
   "source": [
    "## 1. Cálculo de la fuerza de los equipos\n",
    "\n",
    "Construimos un modelo de fuerza basado en los goles marcados y encajados por cada selección a lo largo de los mundiales anteriores. Para ello se calculan promedios de goles por partido, tanto a favor como en contra, considerando partidos como local y visitante.\n"
   ]
  },
  {
   "cell_type": "code",
   "execution_count": 125,
   "id": "cda5a97d",
   "metadata": {},
   "outputs": [],
   "source": [
    "#Creamos un dataframe para los equipos locales y otro para los visitantes\n",
    "df_home = df_data_historica[['HomeTeam', 'HomeGoals', 'AwayGoals']]\n",
    "df_away = df_data_historica[['AwayTeam', 'HomeGoals', 'AwayGoals']]"
   ]
  },
  {
   "cell_type": "code",
   "execution_count": 126,
   "id": "64117f05",
   "metadata": {},
   "outputs": [],
   "source": [
    "df_home = df_home.rename(columns = {'HomeTeam': 'Team', 'HomeGoals': 'GoalsScored', 'AwayGoals': 'GoalsConceded'})\n",
    "df_away = df_away.rename(columns = {'AwayTeam': 'Team', 'HomeGoals': 'GoalsConceded', 'AwayGoals': 'GoalsScored'})"
   ]
  },
  {
   "cell_type": "code",
   "execution_count": 127,
   "id": "91ca83ed",
   "metadata": {},
   "outputs": [
    {
     "data": {
      "text/html": [
       "<div>\n",
       "<style scoped>\n",
       "    .dataframe tbody tr th:only-of-type {\n",
       "        vertical-align: middle;\n",
       "    }\n",
       "\n",
       "    .dataframe tbody tr th {\n",
       "        vertical-align: top;\n",
       "    }\n",
       "\n",
       "    .dataframe thead th {\n",
       "        text-align: right;\n",
       "    }\n",
       "</style>\n",
       "<table border=\"1\" class=\"dataframe\">\n",
       "  <thead>\n",
       "    <tr style=\"text-align: right;\">\n",
       "      <th></th>\n",
       "      <th>GoalsScored</th>\n",
       "      <th>GoalsConceded</th>\n",
       "    </tr>\n",
       "    <tr>\n",
       "      <th>Team</th>\n",
       "      <th></th>\n",
       "      <th></th>\n",
       "    </tr>\n",
       "  </thead>\n",
       "  <tbody>\n",
       "    <tr>\n",
       "      <th>Algeria</th>\n",
       "      <td>1.000000</td>\n",
       "      <td>1.461538</td>\n",
       "    </tr>\n",
       "    <tr>\n",
       "      <th>Angola</th>\n",
       "      <td>0.333333</td>\n",
       "      <td>0.666667</td>\n",
       "    </tr>\n",
       "    <tr>\n",
       "      <th>Argentina</th>\n",
       "      <td>1.717949</td>\n",
       "      <td>1.166667</td>\n",
       "    </tr>\n",
       "    <tr>\n",
       "      <th>Australia</th>\n",
       "      <td>0.812500</td>\n",
       "      <td>1.937500</td>\n",
       "    </tr>\n",
       "    <tr>\n",
       "      <th>Austria</th>\n",
       "      <td>1.576923</td>\n",
       "      <td>1.692308</td>\n",
       "    </tr>\n",
       "    <tr>\n",
       "      <th>...</th>\n",
       "      <td>...</td>\n",
       "      <td>...</td>\n",
       "    </tr>\n",
       "    <tr>\n",
       "      <th>Uruguay</th>\n",
       "      <td>1.603774</td>\n",
       "      <td>1.339623</td>\n",
       "    </tr>\n",
       "    <tr>\n",
       "      <th>Wales</th>\n",
       "      <td>0.800000</td>\n",
       "      <td>0.800000</td>\n",
       "    </tr>\n",
       "    <tr>\n",
       "      <th>West Germany</th>\n",
       "      <td>2.050847</td>\n",
       "      <td>1.254237</td>\n",
       "    </tr>\n",
       "    <tr>\n",
       "      <th>Yugoslavia</th>\n",
       "      <td>1.633333</td>\n",
       "      <td>1.233333</td>\n",
       "    </tr>\n",
       "    <tr>\n",
       "      <th>Zaire</th>\n",
       "      <td>0.000000</td>\n",
       "      <td>4.666667</td>\n",
       "    </tr>\n",
       "  </tbody>\n",
       "</table>\n",
       "<p>84 rows × 2 columns</p>\n",
       "</div>"
      ],
      "text/plain": [
       "              GoalsScored  GoalsConceded\n",
       "Team                                    \n",
       "Algeria          1.000000       1.461538\n",
       "Angola           0.333333       0.666667\n",
       "Argentina        1.717949       1.166667\n",
       "Australia        0.812500       1.937500\n",
       "Austria          1.576923       1.692308\n",
       "...                   ...            ...\n",
       "Uruguay          1.603774       1.339623\n",
       "Wales            0.800000       0.800000\n",
       "West Germany     2.050847       1.254237\n",
       "Yugoslavia       1.633333       1.233333\n",
       "Zaire            0.000000       4.666667\n",
       "\n",
       "[84 rows x 2 columns]"
      ]
     },
     "execution_count": 127,
     "metadata": {},
     "output_type": "execute_result"
    }
   ],
   "source": [
    "#Concatenamos ambos df, hacemos group por team y calculamos promedio de goles marcados y recibidos\n",
    "df_team_strength = pd.concat([df_home, df_away], ignore_index = True).groupby('Team').mean()\n",
    "df_team_strength"
   ]
  },
  {
   "cell_type": "markdown",
   "id": "cf196a24",
   "metadata": {},
   "source": [
    "# 2. Modelo de predicción de partidos\n",
    "\n",
    "Usamos la distribución de Poisson para estimar la probabilidad de cada posible resultado entre dos equipos. A partir de esas probabilidades, calculamos la expectativa de puntos (victoria = 3, empate = 1, derrota = 0) para cada equipo en un enfrentamiento.\n"
   ]
  },
  {
   "cell_type": "code",
   "execution_count": 128,
   "id": "b93aa4ef",
   "metadata": {},
   "outputs": [],
   "source": [
    "def predict_points(home, away):\n",
    "    if home in df_team_strength.index and away in df_team_strength.index:\n",
    "        #Goles marcados * Goles recibidos por el contrario\n",
    "        lambda_home = df_team_strength.at[home, 'GoalsScored'] * df_team_strength.at[away, 'GoalsConceded']\n",
    "        lambda_away = df_team_strength.at[away, 'GoalsScored'] * df_team_strength.at[home, 'GoalsConceded']\n",
    "        prob_home, prob_away, prob_draw = 0, 0, 0\n",
    "        #Consideramos todos los posibles resultados hasta el 10-10\n",
    "        for x in range(0, 11): #Goles del local\n",
    "            for y in range(0, 11): #Goles del visitante\n",
    "                p = poisson.pmf(x, lambda_home) * poisson.pmf(y, lambda_away)\n",
    "                if x > y:\n",
    "                    prob_home +=p\n",
    "                elif x == y:\n",
    "                    prob_draw +=p\n",
    "                else:\n",
    "                    prob_away +=p\n",
    "        points_home = 3 * prob_home + prob_draw\n",
    "        points_away = 3 * prob_away + prob_draw\n",
    "        return(points_home, points_away) #La función devuelve los puntos que recibiría cada equipo (0, 1 o 3)\n",
    "    else:\n",
    "        return (0, 0)"
   ]
  },
  {
   "cell_type": "markdown",
   "id": "9fe7e369",
   "metadata": {},
   "source": [
    "## 2.1 Testear función"
   ]
  },
  {
   "cell_type": "code",
   "execution_count": 129,
   "id": "e1369fdc",
   "metadata": {},
   "outputs": [
    {
     "data": {
      "text/plain": [
       "(np.float64(2.319527107953938), np.float64(0.5332248445655723))"
      ]
     },
     "execution_count": 129,
     "metadata": {},
     "output_type": "execute_result"
    }
   ],
   "source": [
    "predict_points('Argentina', 'Mexico') #Argentina ganaría a Mexico"
   ]
  },
  {
   "cell_type": "markdown",
   "id": "6daf9962",
   "metadata": {},
   "source": [
    "La función devuelve (0,0) para partidos con equipos como Qatar, que nunca han participado en un mundial y no tenemos datos.\n",
    "Con este modelo, los equipos que nunca antes han jugado un mundial no pasarán de fase de grupos."
   ]
  },
  {
   "cell_type": "code",
   "execution_count": 130,
   "id": "dec66e4a",
   "metadata": {},
   "outputs": [
    {
     "data": {
      "text/plain": [
       "(0, 0)"
      ]
     },
     "execution_count": 130,
     "metadata": {},
     "output_type": "execute_result"
    }
   ],
   "source": [
    "predict_points('Qatar (H)', 'Ecuador')"
   ]
  },
  {
   "cell_type": "markdown",
   "id": "5a6b56cb",
   "metadata": {},
   "source": [
    "# 3. Simulación del torneo completo\n",
    "\n",
    "Simulamos todas las fases del torneo usando el modelo anterior:\n",
    "1. Fase de grupos\n",
    "2. Octavos de final\n",
    "3. Cuartos de final\n",
    "4. Semifinales\n",
    "5. Final\n",
    "\n",
    "Los resultados se actualizan dinámicamente tras cada ronda.\n"
   ]
  },
  {
   "cell_type": "code",
   "execution_count": null,
   "id": "b53e4c01",
   "metadata": {},
   "outputs": [],
   "source": [
    "#Dividimos el fixture en grupos, octavos, cuartos...\n",
    "df_fixture_group_48 = df_fixture[:48].copy()\n",
    "df_fixture_knockout = df_fixture[48:56].copy()\n",
    "df_fixture_quarter = df_fixture[56:60].copy()\n",
    "df_fixture_semifinal = df_fixture[60:62].copy()\n",
    "df_fixture_final = df_fixture[62:].copy()"
   ]
  },
  {
   "cell_type": "markdown",
   "id": "c6b43913",
   "metadata": {},
   "source": [
    "## 3.1. Fase de Grupos\n",
    "\n",
    "Distribuimos los partidos por grupo, simulamos cada enfrentamiento y actualizamos las tablas de posiciones. Se clasifican los dos mejores equipos de cada grupo.\n"
   ]
  },
  {
   "cell_type": "code",
   "execution_count": 132,
   "id": "309fa996",
   "metadata": {},
   "outputs": [],
   "source": [
    "#Simulamos los partidos y actualizamos las tablas\n",
    "#Dividimos los partidos de cada grupo\n",
    "for group in dict_table:\n",
    "    dict_table[group]['Pts'] = dict_table[group]['Pts'].astype(float) #Para solucionar warning de la nueva version de pandas\n",
    "    teams_in_group = dict_table[group]['Team'].values\n",
    "    df_fixture_group_6 = df_fixture_group_48[df_fixture_group_48['home'].isin(teams_in_group)]\n",
    "    #Simulamos los partidos de cada grupo\n",
    "    for index, row in df_fixture_group_6.iterrows():\n",
    "        home, away = row['home'], row['away']\n",
    "        points_home, points_away = predict_points(home, away)\n",
    "        dict_table[group].loc[dict_table[group]['Team'] == home, 'Pts'] += points_home\n",
    "        dict_table[group].loc[dict_table[group]['Team'] == away, 'Pts'] += points_away\n",
    "        \n",
    "    dict_table[group] = dict_table[group].sort_values('Pts', ascending=False).reset_index()\n",
    "    dict_table[group] = dict_table[group][['Team', 'Pts']]\n",
    "    dict_table[group] = dict_table[group].round(0)"
   ]
  },
  {
   "cell_type": "code",
   "execution_count": 133,
   "id": "d996d69a",
   "metadata": {},
   "outputs": [
    {
     "data": {
      "text/plain": [
       "{'Group A':           Team  Pts\n",
       " 0  Netherlands  4.0\n",
       " 1      Senegal  2.0\n",
       " 2      Ecuador  2.0\n",
       " 3    Qatar (H)  0.0,\n",
       " 'Group B':             Team  Pts\n",
       " 0        England  6.0\n",
       " 1          Wales  5.0\n",
       " 2  United States  4.0\n",
       " 3           Iran  2.0,\n",
       " 'Group C':            Team  Pts\n",
       " 0     Argentina  7.0\n",
       " 1        Poland  6.0\n",
       " 2        Mexico  4.0\n",
       " 3  Saudi Arabia  1.0,\n",
       " 'Group D':         Team  Pts\n",
       " 0     France  7.0\n",
       " 1    Denmark  6.0\n",
       " 2    Tunisia  3.0\n",
       " 3  Australia  2.0,\n",
       " 'Group E':          Team  Pts\n",
       " 0     Germany  7.0\n",
       " 1       Spain  5.0\n",
       " 2       Japan  3.0\n",
       " 3  Costa Rica  2.0,\n",
       " 'Group F':       Team  Pts\n",
       " 0  Croatia  7.0\n",
       " 1  Belgium  5.0\n",
       " 2  Morocco  4.0\n",
       " 3   Canada  0.0,\n",
       " 'Group G':           Team  Pts\n",
       " 0       Brazil  8.0\n",
       " 1  Switzerland  4.0\n",
       " 2       Serbia  3.0\n",
       " 3     Cameroon  2.0,\n",
       " 'Group H':           Team  Pts\n",
       " 0     Portugal  6.0\n",
       " 1      Uruguay  5.0\n",
       " 2        Ghana  4.0\n",
       " 3  South Korea  2.0}"
      ]
     },
     "execution_count": 133,
     "metadata": {},
     "output_type": "execute_result"
    }
   ],
   "source": [
    "#Tablas actualizadas\n",
    "dict_table"
   ]
  },
  {
   "cell_type": "markdown",
   "id": "77f95ce2",
   "metadata": {},
   "source": [
    "## 3.2. Octavos de Final\n",
    "\n",
    "Se actualiza el fixture con los clasificados de grupos y se simulan los enfrentamientos uno a uno.\n"
   ]
  },
  {
   "cell_type": "code",
   "execution_count": null,
   "id": "e32c0d12",
   "metadata": {},
   "outputs": [],
   "source": [
    "for group in dict_table:\n",
    "    group_winner = dict_table[group].loc[0, 'Team']\n",
    "    group_winner2 = dict_table[group].loc[1, 'Team']\n",
    "    df_fixture_knockout.replace({f'Winners {group}': group_winner, f'Runners-up {group}': group_winner2}, inplace = True)\n",
    "    \n",
    "df_fixture_knockout['winner'] = '?'"
   ]
  },
  {
   "cell_type": "code",
   "execution_count": 136,
   "id": "4463a79b",
   "metadata": {},
   "outputs": [],
   "source": [
    "#Utilizamos la función predict_points() para definir otra función que obtenga el ganador\n",
    "def get_winner(df_fixture_updated):\n",
    "    for index, row in df_fixture_updated.iterrows():\n",
    "        home, away = row['home'], row['away']\n",
    "        points_home, points_away = predict_points(home, away)\n",
    "        if points_home > points_away:\n",
    "            winner = home\n",
    "        else:\n",
    "            winner = away\n",
    "        df_fixture_updated.loc[index, 'winner']  = winner \n",
    "    return(df_fixture_updated) "
   ]
  },
  {
   "cell_type": "code",
   "execution_count": 137,
   "id": "cff34a99",
   "metadata": {},
   "outputs": [
    {
     "data": {
      "text/html": [
       "<div>\n",
       "<style scoped>\n",
       "    .dataframe tbody tr th:only-of-type {\n",
       "        vertical-align: middle;\n",
       "    }\n",
       "\n",
       "    .dataframe tbody tr th {\n",
       "        vertical-align: top;\n",
       "    }\n",
       "\n",
       "    .dataframe thead th {\n",
       "        text-align: right;\n",
       "    }\n",
       "</style>\n",
       "<table border=\"1\" class=\"dataframe\">\n",
       "  <thead>\n",
       "    <tr style=\"text-align: right;\">\n",
       "      <th></th>\n",
       "      <th>home</th>\n",
       "      <th>score</th>\n",
       "      <th>away</th>\n",
       "      <th>year</th>\n",
       "      <th>winner</th>\n",
       "    </tr>\n",
       "  </thead>\n",
       "  <tbody>\n",
       "    <tr>\n",
       "      <th>48</th>\n",
       "      <td>Netherlands</td>\n",
       "      <td>Match 49</td>\n",
       "      <td>Wales</td>\n",
       "      <td>2022</td>\n",
       "      <td>Netherlands</td>\n",
       "    </tr>\n",
       "    <tr>\n",
       "      <th>49</th>\n",
       "      <td>Argentina</td>\n",
       "      <td>Match 50</td>\n",
       "      <td>Denmark</td>\n",
       "      <td>2022</td>\n",
       "      <td>Argentina</td>\n",
       "    </tr>\n",
       "    <tr>\n",
       "      <th>50</th>\n",
       "      <td>France</td>\n",
       "      <td>Match 52</td>\n",
       "      <td>Poland</td>\n",
       "      <td>2022</td>\n",
       "      <td>France</td>\n",
       "    </tr>\n",
       "    <tr>\n",
       "      <th>51</th>\n",
       "      <td>England</td>\n",
       "      <td>Match 51</td>\n",
       "      <td>Senegal</td>\n",
       "      <td>2022</td>\n",
       "      <td>England</td>\n",
       "    </tr>\n",
       "    <tr>\n",
       "      <th>52</th>\n",
       "      <td>Germany</td>\n",
       "      <td>Match 53</td>\n",
       "      <td>Belgium</td>\n",
       "      <td>2022</td>\n",
       "      <td>Germany</td>\n",
       "    </tr>\n",
       "    <tr>\n",
       "      <th>53</th>\n",
       "      <td>Brazil</td>\n",
       "      <td>Match 54</td>\n",
       "      <td>Uruguay</td>\n",
       "      <td>2022</td>\n",
       "      <td>Brazil</td>\n",
       "    </tr>\n",
       "    <tr>\n",
       "      <th>54</th>\n",
       "      <td>Croatia</td>\n",
       "      <td>Match 55</td>\n",
       "      <td>Spain</td>\n",
       "      <td>2022</td>\n",
       "      <td>Croatia</td>\n",
       "    </tr>\n",
       "    <tr>\n",
       "      <th>55</th>\n",
       "      <td>Portugal</td>\n",
       "      <td>Match 56</td>\n",
       "      <td>Switzerland</td>\n",
       "      <td>2022</td>\n",
       "      <td>Portugal</td>\n",
       "    </tr>\n",
       "  </tbody>\n",
       "</table>\n",
       "</div>"
      ],
      "text/plain": [
       "           home     score         away  year       winner\n",
       "48  Netherlands  Match 49        Wales  2022  Netherlands\n",
       "49    Argentina  Match 50      Denmark  2022    Argentina\n",
       "50       France  Match 52       Poland  2022       France\n",
       "51      England  Match 51      Senegal  2022      England\n",
       "52      Germany  Match 53      Belgium  2022      Germany\n",
       "53       Brazil  Match 54      Uruguay  2022       Brazil\n",
       "54      Croatia  Match 55        Spain  2022      Croatia\n",
       "55     Portugal  Match 56  Switzerland  2022     Portugal"
      ]
     },
     "execution_count": 137,
     "metadata": {},
     "output_type": "execute_result"
    }
   ],
   "source": [
    "get_winner(df_fixture_knockout)"
   ]
  },
  {
   "cell_type": "markdown",
   "id": "70de1c98",
   "metadata": {},
   "source": [
    "## 3.3 Cuartos de final"
   ]
  },
  {
   "cell_type": "code",
   "execution_count": null,
   "id": "0f67be99",
   "metadata": {},
   "outputs": [],
   "source": [
    "#Función para actualizar fixture, nos servirá para cuartos, semifinal y final:\n",
    "def update_tables(df_fixture_round1, df_fixture_round2):\n",
    "    for index, row in df_fixture_round1.iterrows():\n",
    "        winner = df_fixture_round1.loc[index, 'winner']\n",
    "        match = df_fixture_round1.loc[index, 'score']\n",
    "        df_fixture_round2.replace({f'Winners {match}': winner}, inplace = True)\n",
    "        df_fixture_round2['winner'] = '?'\n",
    "    return(df_fixture_round2)    "
   ]
  },
  {
   "cell_type": "code",
   "execution_count": null,
   "id": "3bb6c224",
   "metadata": {},
   "outputs": [
    {
     "data": {
      "text/html": [
       "<div>\n",
       "<style scoped>\n",
       "    .dataframe tbody tr th:only-of-type {\n",
       "        vertical-align: middle;\n",
       "    }\n",
       "\n",
       "    .dataframe tbody tr th {\n",
       "        vertical-align: top;\n",
       "    }\n",
       "\n",
       "    .dataframe thead th {\n",
       "        text-align: right;\n",
       "    }\n",
       "</style>\n",
       "<table border=\"1\" class=\"dataframe\">\n",
       "  <thead>\n",
       "    <tr style=\"text-align: right;\">\n",
       "      <th></th>\n",
       "      <th>home</th>\n",
       "      <th>score</th>\n",
       "      <th>away</th>\n",
       "      <th>year</th>\n",
       "      <th>winner</th>\n",
       "    </tr>\n",
       "  </thead>\n",
       "  <tbody>\n",
       "    <tr>\n",
       "      <th>56</th>\n",
       "      <td>Germany</td>\n",
       "      <td>Match 58</td>\n",
       "      <td>Brazil</td>\n",
       "      <td>2022</td>\n",
       "      <td>?</td>\n",
       "    </tr>\n",
       "    <tr>\n",
       "      <th>57</th>\n",
       "      <td>Netherlands</td>\n",
       "      <td>Match 57</td>\n",
       "      <td>Argentina</td>\n",
       "      <td>2022</td>\n",
       "      <td>?</td>\n",
       "    </tr>\n",
       "    <tr>\n",
       "      <th>58</th>\n",
       "      <td>Croatia</td>\n",
       "      <td>Match 60</td>\n",
       "      <td>Portugal</td>\n",
       "      <td>2022</td>\n",
       "      <td>?</td>\n",
       "    </tr>\n",
       "    <tr>\n",
       "      <th>59</th>\n",
       "      <td>England</td>\n",
       "      <td>Match 59</td>\n",
       "      <td>France</td>\n",
       "      <td>2022</td>\n",
       "      <td>?</td>\n",
       "    </tr>\n",
       "  </tbody>\n",
       "</table>\n",
       "</div>"
      ],
      "text/plain": [
       "           home     score       away  year winner\n",
       "56      Germany  Match 58     Brazil  2022      ?\n",
       "57  Netherlands  Match 57  Argentina  2022      ?\n",
       "58      Croatia  Match 60   Portugal  2022      ?\n",
       "59      England  Match 59     France  2022      ?"
      ]
     },
     "execution_count": 141,
     "metadata": {},
     "output_type": "execute_result"
    }
   ],
   "source": [
    "#Actualizamos el fixture de cuartos\n",
    "update_tables(df_fixture_knockout, df_fixture_quarter)"
   ]
  },
  {
   "cell_type": "code",
   "execution_count": 142,
   "id": "e4d082eb",
   "metadata": {},
   "outputs": [
    {
     "data": {
      "text/html": [
       "<div>\n",
       "<style scoped>\n",
       "    .dataframe tbody tr th:only-of-type {\n",
       "        vertical-align: middle;\n",
       "    }\n",
       "\n",
       "    .dataframe tbody tr th {\n",
       "        vertical-align: top;\n",
       "    }\n",
       "\n",
       "    .dataframe thead th {\n",
       "        text-align: right;\n",
       "    }\n",
       "</style>\n",
       "<table border=\"1\" class=\"dataframe\">\n",
       "  <thead>\n",
       "    <tr style=\"text-align: right;\">\n",
       "      <th></th>\n",
       "      <th>home</th>\n",
       "      <th>score</th>\n",
       "      <th>away</th>\n",
       "      <th>year</th>\n",
       "      <th>winner</th>\n",
       "    </tr>\n",
       "  </thead>\n",
       "  <tbody>\n",
       "    <tr>\n",
       "      <th>56</th>\n",
       "      <td>Germany</td>\n",
       "      <td>Match 58</td>\n",
       "      <td>Brazil</td>\n",
       "      <td>2022</td>\n",
       "      <td>Brazil</td>\n",
       "    </tr>\n",
       "    <tr>\n",
       "      <th>57</th>\n",
       "      <td>Netherlands</td>\n",
       "      <td>Match 57</td>\n",
       "      <td>Argentina</td>\n",
       "      <td>2022</td>\n",
       "      <td>Netherlands</td>\n",
       "    </tr>\n",
       "    <tr>\n",
       "      <th>58</th>\n",
       "      <td>Croatia</td>\n",
       "      <td>Match 60</td>\n",
       "      <td>Portugal</td>\n",
       "      <td>2022</td>\n",
       "      <td>Portugal</td>\n",
       "    </tr>\n",
       "    <tr>\n",
       "      <th>59</th>\n",
       "      <td>England</td>\n",
       "      <td>Match 59</td>\n",
       "      <td>France</td>\n",
       "      <td>2022</td>\n",
       "      <td>France</td>\n",
       "    </tr>\n",
       "  </tbody>\n",
       "</table>\n",
       "</div>"
      ],
      "text/plain": [
       "           home     score       away  year       winner\n",
       "56      Germany  Match 58     Brazil  2022       Brazil\n",
       "57  Netherlands  Match 57  Argentina  2022  Netherlands\n",
       "58      Croatia  Match 60   Portugal  2022     Portugal\n",
       "59      England  Match 59     France  2022       France"
      ]
     },
     "execution_count": 142,
     "metadata": {},
     "output_type": "execute_result"
    }
   ],
   "source": [
    "#Obtenemos los ganadores\n",
    "get_winner(df_fixture_quarter)"
   ]
  },
  {
   "cell_type": "markdown",
   "id": "a88b3757",
   "metadata": {},
   "source": [
    "## 3.4 Semifinal"
   ]
  },
  {
   "cell_type": "code",
   "execution_count": 143,
   "id": "36d33b07",
   "metadata": {},
   "outputs": [
    {
     "data": {
      "text/html": [
       "<div>\n",
       "<style scoped>\n",
       "    .dataframe tbody tr th:only-of-type {\n",
       "        vertical-align: middle;\n",
       "    }\n",
       "\n",
       "    .dataframe tbody tr th {\n",
       "        vertical-align: top;\n",
       "    }\n",
       "\n",
       "    .dataframe thead th {\n",
       "        text-align: right;\n",
       "    }\n",
       "</style>\n",
       "<table border=\"1\" class=\"dataframe\">\n",
       "  <thead>\n",
       "    <tr style=\"text-align: right;\">\n",
       "      <th></th>\n",
       "      <th>home</th>\n",
       "      <th>score</th>\n",
       "      <th>away</th>\n",
       "      <th>year</th>\n",
       "      <th>winner</th>\n",
       "    </tr>\n",
       "  </thead>\n",
       "  <tbody>\n",
       "    <tr>\n",
       "      <th>60</th>\n",
       "      <td>Netherlands</td>\n",
       "      <td>Match 61</td>\n",
       "      <td>Brazil</td>\n",
       "      <td>2022</td>\n",
       "      <td>?</td>\n",
       "    </tr>\n",
       "    <tr>\n",
       "      <th>61</th>\n",
       "      <td>France</td>\n",
       "      <td>Match 62</td>\n",
       "      <td>Portugal</td>\n",
       "      <td>2022</td>\n",
       "      <td>?</td>\n",
       "    </tr>\n",
       "  </tbody>\n",
       "</table>\n",
       "</div>"
      ],
      "text/plain": [
       "           home     score      away  year winner\n",
       "60  Netherlands  Match 61    Brazil  2022      ?\n",
       "61       France  Match 62  Portugal  2022      ?"
      ]
     },
     "execution_count": 143,
     "metadata": {},
     "output_type": "execute_result"
    }
   ],
   "source": [
    "#Actualizamos fixture\n",
    "update_tables(df_fixture_quarter, df_fixture_semifinal)"
   ]
  },
  {
   "cell_type": "code",
   "execution_count": 144,
   "id": "9b394150",
   "metadata": {},
   "outputs": [
    {
     "data": {
      "text/html": [
       "<div>\n",
       "<style scoped>\n",
       "    .dataframe tbody tr th:only-of-type {\n",
       "        vertical-align: middle;\n",
       "    }\n",
       "\n",
       "    .dataframe tbody tr th {\n",
       "        vertical-align: top;\n",
       "    }\n",
       "\n",
       "    .dataframe thead th {\n",
       "        text-align: right;\n",
       "    }\n",
       "</style>\n",
       "<table border=\"1\" class=\"dataframe\">\n",
       "  <thead>\n",
       "    <tr style=\"text-align: right;\">\n",
       "      <th></th>\n",
       "      <th>home</th>\n",
       "      <th>score</th>\n",
       "      <th>away</th>\n",
       "      <th>year</th>\n",
       "      <th>winner</th>\n",
       "    </tr>\n",
       "  </thead>\n",
       "  <tbody>\n",
       "    <tr>\n",
       "      <th>60</th>\n",
       "      <td>Netherlands</td>\n",
       "      <td>Match 61</td>\n",
       "      <td>Brazil</td>\n",
       "      <td>2022</td>\n",
       "      <td>Brazil</td>\n",
       "    </tr>\n",
       "    <tr>\n",
       "      <th>61</th>\n",
       "      <td>France</td>\n",
       "      <td>Match 62</td>\n",
       "      <td>Portugal</td>\n",
       "      <td>2022</td>\n",
       "      <td>France</td>\n",
       "    </tr>\n",
       "  </tbody>\n",
       "</table>\n",
       "</div>"
      ],
      "text/plain": [
       "           home     score      away  year  winner\n",
       "60  Netherlands  Match 61    Brazil  2022  Brazil\n",
       "61       France  Match 62  Portugal  2022  France"
      ]
     },
     "execution_count": 144,
     "metadata": {},
     "output_type": "execute_result"
    }
   ],
   "source": [
    "#Obtenemos los ganadores\n",
    "get_winner(df_fixture_semifinal)"
   ]
  },
  {
   "cell_type": "markdown",
   "id": "d3a65200",
   "metadata": {},
   "source": [
    "## 3.5 Final"
   ]
  },
  {
   "cell_type": "code",
   "execution_count": 145,
   "id": "d60a32de",
   "metadata": {},
   "outputs": [
    {
     "data": {
      "text/html": [
       "<div>\n",
       "<style scoped>\n",
       "    .dataframe tbody tr th:only-of-type {\n",
       "        vertical-align: middle;\n",
       "    }\n",
       "\n",
       "    .dataframe tbody tr th {\n",
       "        vertical-align: top;\n",
       "    }\n",
       "\n",
       "    .dataframe thead th {\n",
       "        text-align: right;\n",
       "    }\n",
       "</style>\n",
       "<table border=\"1\" class=\"dataframe\">\n",
       "  <thead>\n",
       "    <tr style=\"text-align: right;\">\n",
       "      <th></th>\n",
       "      <th>home</th>\n",
       "      <th>score</th>\n",
       "      <th>away</th>\n",
       "      <th>year</th>\n",
       "      <th>winner</th>\n",
       "    </tr>\n",
       "  </thead>\n",
       "  <tbody>\n",
       "    <tr>\n",
       "      <th>62</th>\n",
       "      <td>Losers Match 61</td>\n",
       "      <td>Match 63</td>\n",
       "      <td>Losers Match 62</td>\n",
       "      <td>2022</td>\n",
       "      <td>?</td>\n",
       "    </tr>\n",
       "    <tr>\n",
       "      <th>63</th>\n",
       "      <td>Brazil</td>\n",
       "      <td>Match 64</td>\n",
       "      <td>France</td>\n",
       "      <td>2022</td>\n",
       "      <td>?</td>\n",
       "    </tr>\n",
       "  </tbody>\n",
       "</table>\n",
       "</div>"
      ],
      "text/plain": [
       "               home     score             away  year winner\n",
       "62  Losers Match 61  Match 63  Losers Match 62  2022      ?\n",
       "63           Brazil  Match 64           France  2022      ?"
      ]
     },
     "execution_count": 145,
     "metadata": {},
     "output_type": "execute_result"
    }
   ],
   "source": [
    "#Actualizamos fixture\n",
    "update_tables(df_fixture_semifinal, df_fixture_final)"
   ]
  },
  {
   "cell_type": "code",
   "execution_count": 146,
   "id": "4476297e",
   "metadata": {},
   "outputs": [
    {
     "data": {
      "text/html": [
       "<div>\n",
       "<style scoped>\n",
       "    .dataframe tbody tr th:only-of-type {\n",
       "        vertical-align: middle;\n",
       "    }\n",
       "\n",
       "    .dataframe tbody tr th {\n",
       "        vertical-align: top;\n",
       "    }\n",
       "\n",
       "    .dataframe thead th {\n",
       "        text-align: right;\n",
       "    }\n",
       "</style>\n",
       "<table border=\"1\" class=\"dataframe\">\n",
       "  <thead>\n",
       "    <tr style=\"text-align: right;\">\n",
       "      <th></th>\n",
       "      <th>home</th>\n",
       "      <th>score</th>\n",
       "      <th>away</th>\n",
       "      <th>year</th>\n",
       "      <th>winner</th>\n",
       "    </tr>\n",
       "  </thead>\n",
       "  <tbody>\n",
       "    <tr>\n",
       "      <th>62</th>\n",
       "      <td>Losers Match 61</td>\n",
       "      <td>Match 63</td>\n",
       "      <td>Losers Match 62</td>\n",
       "      <td>2022</td>\n",
       "      <td>Losers Match 62</td>\n",
       "    </tr>\n",
       "    <tr>\n",
       "      <th>63</th>\n",
       "      <td>Brazil</td>\n",
       "      <td>Match 64</td>\n",
       "      <td>France</td>\n",
       "      <td>2022</td>\n",
       "      <td>Brazil</td>\n",
       "    </tr>\n",
       "  </tbody>\n",
       "</table>\n",
       "</div>"
      ],
      "text/plain": [
       "               home     score             away  year           winner\n",
       "62  Losers Match 61  Match 63  Losers Match 62  2022  Losers Match 62\n",
       "63           Brazil  Match 64           France  2022           Brazil"
      ]
     },
     "execution_count": 146,
     "metadata": {},
     "output_type": "execute_result"
    }
   ],
   "source": [
    "#Obtenemos el ganador\n",
    "get_winner(df_fixture_final)"
   ]
  },
  {
   "cell_type": "markdown",
   "id": "c0dea53a",
   "metadata": {},
   "source": [
    "## ✅ Resultados finales del torneo\n",
    "\n",
    "Una vez simuladas todas las fases, obtenemos un ganador del torneo. Este modelo es determinista en cada ejecución (salvo que incorpores simulaciones múltiples o aleatoriedad), por lo que los resultados son reproducibles.\n",
    "\n",
    "> 🧪 Posibles mejoras: el modelo podría refinarse incorporando datos recientes de clasificación, ranking FIFA, partidos amistosos, o aplicando un enfoque bayesiano más sofisticado.\n"
   ]
  }
 ],
 "metadata": {
  "kernelspec": {
   "display_name": "Python 3",
   "language": "python",
   "name": "python3"
  },
  "language_info": {
   "codemirror_mode": {
    "name": "ipython",
    "version": 3
   },
   "file_extension": ".py",
   "mimetype": "text/x-python",
   "name": "python",
   "nbconvert_exporter": "python",
   "pygments_lexer": "ipython3",
   "version": "3.13.4"
  }
 },
 "nbformat": 4,
 "nbformat_minor": 5
}

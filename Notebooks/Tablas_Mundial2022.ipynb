{
 "cells": [
  {
   "cell_type": "markdown",
   "id": "c5181696",
   "metadata": {},
   "source": [
    "# Predicción del Mundial de Fútbol 2022 con Modelos Estadísticos\n",
    "\n",
    "Este proyecto tiene como objetivo analizar y predecir los resultados del Mundial de Fútbol 2022 utilizando técnicas de ciencia de datos en Python. Para ello, extraemos los datos históricos y de la edición 2022 directamente desde Wikipedia, procesamos y organizamos los grupos del torneo, y preparamos las tablas necesarias para simular el campeonato usando un modelo estadístico de Poisson.\n",
    "\n",
    "Además del análisis exploratorio inicial, el proyecto culmina con una simulación completa de la fase de grupos y eliminatorias del Mundial 2022, calculando automáticamente puntos y clasificando selecciones con un modelo estadístico fundamentado en los resultados históricos de los equipos."
   ]
  },
  {
   "cell_type": "markdown",
   "id": "f0b39103",
   "metadata": {},
   "source": [
    "## 🎯 Objetivos del proyecto\n",
    "\n",
    "Automatizar la extracción de datos de mundiales pasados y del Mundial 2022 desde Wikipedia.\n",
    "\n",
    "Procesar las tablas de grupos y generar estructuras de datos listas para simulación.\n",
    "\n",
    "Implementar una simulación realista del torneo basada en la distribución de Poisson.\n",
    "\n",
    "Visualizar y analizar el posible desarrollo del campeonato con base en datos históricos."
   ]
  },
  {
   "cell_type": "markdown",
   "id": "6431b295",
   "metadata": {},
   "source": [
    "## 🛠️ Herramientas utilizadas\n",
    "\n",
    "| Herramienta                        | Descripción de uso                              |\n",
    "| ---------------------------------- | ----------------------------------------------- |\n",
    "| **Python (pandas, BeautifulSoup)** | Extracción, limpieza y procesamiento de datos   |\n",
    "| **Jupyter Notebook**               | Desarrollo paso a paso y documentación visual   |\n",
    "| **Git y GitHub**                   | Control de versiones y publicación del proyecto |\n",
    "\n",
    "Nota: El análisis parte de fuentes públicas (Wikipedia) y no requiere bases de datos locales ni acceso a APIs externas.\n"
   ]
  },
  {
   "cell_type": "code",
   "execution_count": 8,
   "id": "8f7366ff",
   "metadata": {},
   "outputs": [],
   "source": [
    "import pandas as pd\n",
    "from string import ascii_uppercase as abecedario\n",
    "import pickle"
   ]
  },
  {
   "cell_type": "code",
   "execution_count": 9,
   "id": "12e71f87",
   "metadata": {},
   "outputs": [],
   "source": [
    "todas_tablas = pd.read_html('https://en.wikipedia.org/wiki/2022_FIFA_World_Cup')"
   ]
  },
  {
   "cell_type": "code",
   "execution_count": 10,
   "id": "332a2b4e",
   "metadata": {},
   "outputs": [
    {
     "data": {
      "text/html": [
       "<div>\n",
       "<style scoped>\n",
       "    .dataframe tbody tr th:only-of-type {\n",
       "        vertical-align: middle;\n",
       "    }\n",
       "\n",
       "    .dataframe tbody tr th {\n",
       "        vertical-align: top;\n",
       "    }\n",
       "\n",
       "    .dataframe thead th {\n",
       "        text-align: right;\n",
       "    }\n",
       "</style>\n",
       "<table border=\"1\" class=\"dataframe\">\n",
       "  <thead>\n",
       "    <tr style=\"text-align: right;\">\n",
       "      <th></th>\n",
       "      <th>Pos</th>\n",
       "      <th>Teamvte</th>\n",
       "      <th>Pld</th>\n",
       "      <th>W</th>\n",
       "      <th>D</th>\n",
       "      <th>L</th>\n",
       "      <th>GF</th>\n",
       "      <th>GA</th>\n",
       "      <th>GD</th>\n",
       "      <th>Pts</th>\n",
       "      <th>Qualification</th>\n",
       "    </tr>\n",
       "  </thead>\n",
       "  <tbody>\n",
       "    <tr>\n",
       "      <th>0</th>\n",
       "      <td>1</td>\n",
       "      <td>Argentina</td>\n",
       "      <td>3</td>\n",
       "      <td>2</td>\n",
       "      <td>0</td>\n",
       "      <td>1</td>\n",
       "      <td>5</td>\n",
       "      <td>2</td>\n",
       "      <td>+3</td>\n",
       "      <td>6</td>\n",
       "      <td>Advanced to knockout stage</td>\n",
       "    </tr>\n",
       "    <tr>\n",
       "      <th>1</th>\n",
       "      <td>2</td>\n",
       "      <td>Poland</td>\n",
       "      <td>3</td>\n",
       "      <td>1</td>\n",
       "      <td>1</td>\n",
       "      <td>1</td>\n",
       "      <td>2</td>\n",
       "      <td>2</td>\n",
       "      <td>0</td>\n",
       "      <td>4</td>\n",
       "      <td>Advanced to knockout stage</td>\n",
       "    </tr>\n",
       "    <tr>\n",
       "      <th>2</th>\n",
       "      <td>3</td>\n",
       "      <td>Mexico</td>\n",
       "      <td>3</td>\n",
       "      <td>1</td>\n",
       "      <td>1</td>\n",
       "      <td>1</td>\n",
       "      <td>2</td>\n",
       "      <td>3</td>\n",
       "      <td>−1</td>\n",
       "      <td>4</td>\n",
       "      <td>NaN</td>\n",
       "    </tr>\n",
       "    <tr>\n",
       "      <th>3</th>\n",
       "      <td>4</td>\n",
       "      <td>Saudi Arabia</td>\n",
       "      <td>3</td>\n",
       "      <td>1</td>\n",
       "      <td>0</td>\n",
       "      <td>2</td>\n",
       "      <td>3</td>\n",
       "      <td>5</td>\n",
       "      <td>−2</td>\n",
       "      <td>3</td>\n",
       "      <td>NaN</td>\n",
       "    </tr>\n",
       "  </tbody>\n",
       "</table>\n",
       "</div>"
      ],
      "text/plain": [
       "   Pos       Teamvte  Pld  W  D  L  GF  GA  GD  Pts  \\\n",
       "0    1     Argentina    3  2  0  1   5   2  +3    6   \n",
       "1    2        Poland    3  1  1  1   2   2   0    4   \n",
       "2    3        Mexico    3  1  1  1   2   3  −1    4   \n",
       "3    4  Saudi Arabia    3  1  0  2   3   5  −2    3   \n",
       "\n",
       "                Qualification  \n",
       "0  Advanced to knockout stage  \n",
       "1  Advanced to knockout stage  \n",
       "2                         NaN  \n",
       "3                         NaN  "
      ]
     },
     "execution_count": 10,
     "metadata": {},
     "output_type": "execute_result"
    }
   ],
   "source": [
    "#Extraemos tablas de los grupos\n",
    "#A -> H\n",
    "#18 -> 7*8 + 18 = 74\n",
    "todas_tablas[18]\n",
    "todas_tablas[25]\n",
    "todas_tablas[32]"
   ]
  },
  {
   "cell_type": "code",
   "execution_count": 11,
   "id": "e9a651a3",
   "metadata": {},
   "outputs": [],
   "source": [
    "#Extracción + pequeña limpieza\n",
    "todas_tablas = pd.read_html('https://en.wikipedia.org/wiki/2022_FIFA_World_Cup')\n",
    "\n",
    "dict_tablas = {}\n",
    "for letra, i in zip(abecedario, range(18, 74, 7)):\n",
    "    df = todas_tablas[i]\n",
    "    df.rename(columns={df.columns[1]:'Team'}, inplace=True)\n",
    "    df.pop('Qualification')\n",
    "    dict_tablas[f'Group {letra}'] = df"
   ]
  },
  {
   "cell_type": "code",
   "execution_count": 12,
   "id": "8ab4745e",
   "metadata": {},
   "outputs": [
    {
     "data": {
      "text/plain": [
       "{'Group A':    Pos         Team  Pld  W  D  L  GF  GA  GD  Pts\n",
       " 0    1  Netherlands    3  2  1  0   5   1  +4    7\n",
       " 1    2      Senegal    3  2  0  1   5   4  +1    6\n",
       " 2    3      Ecuador    3  1  1  1   4   3  +1    4\n",
       " 3    4    Qatar (H)    3  0  0  3   1   7  −6    0,\n",
       " 'Group B':    Pos           Team  Pld  W  D  L  GF  GA  GD  Pts\n",
       " 0    1        England    3  2  1  0   9   2  +7    7\n",
       " 1    2  United States    3  1  2  0   2   1  +1    5\n",
       " 2    3           Iran    3  1  0  2   4   7  −3    3\n",
       " 3    4          Wales    3  0  1  2   1   6  −5    1,\n",
       " 'Group C':    Pos          Team  Pld  W  D  L  GF  GA  GD  Pts\n",
       " 0    1     Argentina    3  2  0  1   5   2  +3    6\n",
       " 1    2        Poland    3  1  1  1   2   2   0    4\n",
       " 2    3        Mexico    3  1  1  1   2   3  −1    4\n",
       " 3    4  Saudi Arabia    3  1  0  2   3   5  −2    3,\n",
       " 'Group D':    Pos       Team  Pld  W  D  L  GF  GA  GD  Pts\n",
       " 0    1     France    3  2  0  1   6   3  +3    6\n",
       " 1    2  Australia    3  2  0  1   3   4  −1    6\n",
       " 2    3    Tunisia    3  1  1  1   1   1   0    4\n",
       " 3    4    Denmark    3  0  1  2   1   3  −2    1,\n",
       " 'Group E':    Pos        Team  Pld  W  D  L  GF  GA  GD  Pts\n",
       " 0    1       Japan    3  2  0  1   4   3  +1    6\n",
       " 1    2       Spain    3  1  1  1   9   3  +6    4\n",
       " 2    3     Germany    3  1  1  1   6   5  +1    4\n",
       " 3    4  Costa Rica    3  1  0  2   3  11  −8    3,\n",
       " 'Group F':    Pos     Team  Pld  W  D  L  GF  GA  GD  Pts\n",
       " 0    1  Morocco    3  2  1  0   4   1  +3    7\n",
       " 1    2  Croatia    3  1  2  0   4   1  +3    5\n",
       " 2    3  Belgium    3  1  1  1   1   2  −1    4\n",
       " 3    4   Canada    3  0  0  3   2   7  −5    0,\n",
       " 'Group G':    Pos         Team  Pld  W  D  L  GF  GA  GD  Pts\n",
       " 0    1       Brazil    3  2  0  1   3   1  +2    6\n",
       " 1    2  Switzerland    3  2  0  1   4   3  +1    6\n",
       " 2    3     Cameroon    3  1  1  1   4   4   0    4\n",
       " 3    4       Serbia    3  0  1  2   5   8  −3    1,\n",
       " 'Group H':    Pos         Team  Pld  W  D  L  GF  GA  GD  Pts\n",
       " 0    1     Portugal    3  2  0  1   6   4  +2    6\n",
       " 1    2  South Korea    3  1  1  1   4   4   0    4\n",
       " 2    3      Uruguay    3  1  1  1   2   2   0    4\n",
       " 3    4        Ghana    3  1  0  2   5   7  −2    3}"
      ]
     },
     "execution_count": 12,
     "metadata": {},
     "output_type": "execute_result"
    }
   ],
   "source": [
    "dict_tablas"
   ]
  },
  {
   "cell_type": "code",
   "execution_count": 13,
   "id": "0168a6ac",
   "metadata": {},
   "outputs": [
    {
     "data": {
      "text/plain": [
       "{'Group A':    Pos         Team  Pld  W  D  L  GF  GA  GD  Pts\n",
       " 0    1  Netherlands    0  0  0  0   0   0   0    0\n",
       " 1    2      Senegal    0  0  0  0   0   0   0    0\n",
       " 2    3      Ecuador    0  0  0  0   0   0   0    0\n",
       " 3    4    Qatar (H)    0  0  0  0   0   0   0    0,\n",
       " 'Group B':    Pos           Team  Pld  W  D  L  GF  GA  GD  Pts\n",
       " 0    1        England    0  0  0  0   0   0   0    0\n",
       " 1    2  United States    0  0  0  0   0   0   0    0\n",
       " 2    3           Iran    0  0  0  0   0   0   0    0\n",
       " 3    4          Wales    0  0  0  0   0   0   0    0,\n",
       " 'Group C':    Pos          Team  Pld  W  D  L  GF  GA  GD  Pts\n",
       " 0    1     Argentina    0  0  0  0   0   0   0    0\n",
       " 1    2        Poland    0  0  0  0   0   0   0    0\n",
       " 2    3        Mexico    0  0  0  0   0   0   0    0\n",
       " 3    4  Saudi Arabia    0  0  0  0   0   0   0    0,\n",
       " 'Group D':    Pos       Team  Pld  W  D  L  GF  GA  GD  Pts\n",
       " 0    1     France    0  0  0  0   0   0   0    0\n",
       " 1    2  Australia    0  0  0  0   0   0   0    0\n",
       " 2    3    Tunisia    0  0  0  0   0   0   0    0\n",
       " 3    4    Denmark    0  0  0  0   0   0   0    0,\n",
       " 'Group E':    Pos        Team  Pld  W  D  L  GF  GA  GD  Pts\n",
       " 0    1       Japan    0  0  0  0   0   0   0    0\n",
       " 1    2       Spain    0  0  0  0   0   0   0    0\n",
       " 2    3     Germany    0  0  0  0   0   0   0    0\n",
       " 3    4  Costa Rica    0  0  0  0   0   0   0    0,\n",
       " 'Group F':    Pos     Team  Pld  W  D  L  GF  GA  GD  Pts\n",
       " 0    1  Morocco    0  0  0  0   0   0   0    0\n",
       " 1    2  Croatia    0  0  0  0   0   0   0    0\n",
       " 2    3  Belgium    0  0  0  0   0   0   0    0\n",
       " 3    4   Canada    0  0  0  0   0   0   0    0,\n",
       " 'Group G':    Pos         Team  Pld  W  D  L  GF  GA  GD  Pts\n",
       " 0    1       Brazil    0  0  0  0   0   0   0    0\n",
       " 1    2  Switzerland    0  0  0  0   0   0   0    0\n",
       " 2    3     Cameroon    0  0  0  0   0   0   0    0\n",
       " 3    4       Serbia    0  0  0  0   0   0   0    0,\n",
       " 'Group H':    Pos         Team  Pld  W  D  L  GF  GA  GD  Pts\n",
       " 0    1     Portugal    0  0  0  0   0   0   0    0\n",
       " 1    2  South Korea    0  0  0  0   0   0   0    0\n",
       " 2    3      Uruguay    0  0  0  0   0   0   0    0\n",
       " 3    4        Ghana    0  0  0  0   0   0   0    0}"
      ]
     },
     "execution_count": 13,
     "metadata": {},
     "output_type": "execute_result"
    }
   ],
   "source": [
    "# Vaciamos todas las estadísticas para realizar las predicciones\n",
    "for grupo, tabla in dict_tablas.items():\n",
    "    columnas_a_vaciar = [col for col in tabla.columns if col not in ['Pos', 'Team']]\n",
    "    tabla[columnas_a_vaciar] = 0\n",
    "dict_tablas"
   ]
  },
  {
   "cell_type": "code",
   "execution_count": 14,
   "id": "48bfae6a",
   "metadata": {},
   "outputs": [],
   "source": [
    "#Exportamos las tablas\n",
    "with open('dict_table', 'wb') as output:\n",
    "    pickle.dump(dict_tablas, output)"
   ]
  }
 ],
 "metadata": {
  "kernelspec": {
   "display_name": "Python 3",
   "language": "python",
   "name": "python3"
  },
  "language_info": {
   "codemirror_mode": {
    "name": "ipython",
    "version": 3
   },
   "file_extension": ".py",
   "mimetype": "text/x-python",
   "name": "python",
   "nbconvert_exporter": "python",
   "pygments_lexer": "ipython3",
   "version": "3.13.4"
  }
 },
 "nbformat": 4,
 "nbformat_minor": 5
}
